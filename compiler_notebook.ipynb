{
 "cells": [
  {
   "cell_type": "code",
   "execution_count": null,
   "metadata": {},
   "outputs": [],
   "source": [
    "# Importing libraries\n",
    "import pandas as pd\n",
    "import glob\n",
    "import os\n",
    "from tkinter import Tk\n",
    "from tkinter import filedialog\n",
    "from PyPDF2 import PdfMerger\n",
    "\n",
    "# Ask user to input directory to save compiled pdf.\n",
    "working_directory = input(\"Where should we output the data? Input save directory.\")\n",
    "os.chdir(str(working_directory)) \n",
    "cwd = os.getcwd()\n",
    "\n",
    "\"\"\" While folder select dialog open, allow user to select folders (one at a time, limited by tkinter). Break while loop when dialog closed. Selected folders added to list \"folders_list\". \"\"\"\n",
    "folders_list=[]\n",
    "while True:\n",
    "  root = Tk()\n",
    "  root.lift()\n",
    "  root.withdraw()\n",
    "  folder = filedialog.askdirectory(parent = root)\n",
    "  if folder:\n",
    "    folders_list.append(folder)\n",
    "  else:\n",
    "      break\n",
    "\n",
    "# Using glob, collect all subfolders within the selected folder(s). Sort the list folders.  \n",
    "subfolder_list = []\n",
    "for folder in folders_list:\n",
    "  print(folder)\n",
    "  [subfolder_list.append(subfolder) for subfolder in glob.glob(folder + \"/*\", recursive = True)]\n",
    "  subfolder_list.sort()\n",
    "\n",
    "#Instantiate the PdfMerger\n",
    "merger = PdfMerger() \n",
    "\n",
    "\"\"\" Loop through the subfolders and gather all of the .pdf files within those subfolders. Append those .pdf files to our PdfMerger. \"\"\"\n",
    "for subfolder in subfolder_list:\n",
    "  for pdf in glob.glob(subfolder + '/*.pdf'):\n",
    "    merger.append(pdf)\n",
    "\n",
    "\"\"\" Compile the aggregated .pdf files into one .pdf document, write to the cwd (as defined by the user input) and close the merger object. \"\"\"\n",
    "merger.write(\"slides.pdf\")\n",
    "merger.close()"
   ]
  }
 ],
 "metadata": {
  "kernelspec": {
   "display_name": "base",
   "language": "python",
   "name": "python3"
  },
  "language_info": {
   "codemirror_mode": {
    "name": "ipython",
    "version": 3
   },
   "file_extension": ".py",
   "mimetype": "text/x-python",
   "name": "python",
   "nbconvert_exporter": "python",
   "pygments_lexer": "ipython3",
   "version": "3.8.12"
  }
 },
 "nbformat": 4,
 "nbformat_minor": 2
}
